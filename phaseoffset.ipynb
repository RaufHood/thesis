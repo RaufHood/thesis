{
 "cells": [
  {
   "cell_type": "code",
   "execution_count": 1,
   "id": "d0146227",
   "metadata": {},
   "outputs": [
    {
     "data": {
      "text/plain": [
       "<matplotlib.image.AxesImage at 0x1d853e22cd0>"
      ]
     },
     "execution_count": 1,
     "metadata": {},
     "output_type": "execute_result"
    },
    {
     "data": {
      "image/png": "[encoded data removed]",
      "text/plain": [
       "<Figure size 432x288 with 1 Axes>"
      ]
     },
     "metadata": {
      "needs_background": "light"
     },
     "output_type": "display_data"
    }
   ],
   "source": [
    "import numpy as np\n",
    "import matplotlib.pyplot as plt\n",
    "import matplotlib.animation as animation\n",
    "\n",
    "n= 40\n",
    "x = np.indices((n,n))\n",
    "y_c = np.concatenate(x[0])\n",
    "x_c = np.concatenate(x[1])\n",
    "\n",
    "def comp_dist(a, b):\n",
    "    na = int(np.sqrt(len(a)))\n",
    "    nb = int(np.sqrt(len(b)))\n",
    "    #print((a))\n",
    "    a_ = np.tile(a, (nb**2,1))\n",
    "    b_ = np.tile(b, (na**2,1))\n",
    "    \n",
    "    dist1 = np.abs(a_-b_.T)\n",
    "    dist2 = n - dist1\n",
    "    return np.minimum(dist1, dist2)\n",
    "\n",
    "xdist = comp_dist(x_c,x_c)\n",
    "ydist = comp_dist(y_c,y_c)\n",
    "dist_f = np.sqrt(xdist**2+ydist**2)\n",
    "plt.imshow(dist_f[0:39,0:39])"
   ]
  },
  {
   "cell_type": "code",
   "execution_count": 2,
   "id": "d2987a02",
   "metadata": {},
   "outputs": [
    {
     "data": {
      "image/png": "[encoded data removed]",
      "text/plain": [
       "<Figure size 432x288 with 1 Axes>"
      ]
     },
     "metadata": {
      "needs_background": "light"
     },
     "output_type": "display_data"
    }
   ],
   "source": [
    "directions = [[1,0],[0,1],[-1,0],[0,-1]]#  E N W S\n",
    "z = 2 * (y_c % 2) + x_c % 2\n",
    "\n",
    "g = np.take(directions, z, axis=0)# g is an array with the vector of directional preference for each neuron\n",
    "#print(g.shape)\n",
    "#print(g[:, 0].shape)\n",
    "x_s = x_c - g[:, 0]# subtract to each neuron position the vector of directional preference.\n",
    "y_s = y_c - g[:, 1]\n",
    "\n",
    "xdist = comp_dist(x_c,x_s)\n",
    "ydist = comp_dist(y_c,y_s)\n",
    "dist_f = np.sqrt(xdist**2+ydist**2)\n",
    "#plt.imshow(dist_f)\n",
    "\n",
    "def rec(d):\n",
    "    llambda = 15\n",
    "    beta = 3 /(llambda**2)\n",
    "    gamma = 1.05*beta\n",
    "    w = np.exp(-gamma*d**2)-np.exp(-beta*d**2)\n",
    "    return w\n",
    "\n",
    "w_rec = rec(dist_f)\n",
    "plt.imshow(w_rec[0:39, 0 :39])\n",
    "\n",
    "def dynamics(b, s0, w, tau, dt):\n",
    "    \"\"\"Solve the grid cell spiking equation with implicit euler for one time step of size dt\"\"\"\n",
    "    \n",
    "    f = np.maximum(0, np.tensordot(s0, w, axes=1) + b)\n",
    "    s = (s0 + f * dt / tau) / (1 + dt / tau)\n",
    "    return s\n",
    "\n",
    "\n",
    "def calculate_B(v):\n",
    "    g_m = 0.7\n",
    "    alpha = 0.10315\n",
    "    tau = 1e-1\n",
    "    dt = 1e-2\n",
    "    #print(g)\n",
    "    #print(v)\n",
    "    B = 1 + g_m * alpha * np.tensordot(g, v, axes=1)\n",
    "    return B"
   ]
  },
  {
   "cell_type": "code",
   "execution_count": 3,
   "id": "1a306528",
   "metadata": {},
   "outputs": [
    {
     "data": {
      "text/plain": [
       "<matplotlib.image.AxesImage at 0x1d8524318b0>"
      ]
     },
     "execution_count": 3,
     "metadata": {},
     "output_type": "execute_result"
    },
    {
     "data": {
      "image/png": "[encoded data removed]",
      "text/plain": [
       "<Figure size 432x288 with 1 Axes>"
      ]
     },
     "metadata": {
      "needs_background": "light"
     },
     "output_type": "display_data"
    }
   ],
   "source": [
    "# initialization\n",
    "nr_steps =1000\n",
    "s = np.random.rand(n**2)*10**(-2)\n",
    "tau = 1e-1\n",
    "dt = 1e-2\n",
    "for i in range(nr_steps):\n",
    "    v = np.random.rand(2)*0.2\n",
    "    B = calculate_B(v)\n",
    "    s = dynamics(B, s, w_rec, tau, dt)\n",
    "s0 = s\n",
    "s_resh = np.reshape(s, (40,40))\n",
    "plt.imshow(s_resh)"
   ]
  },
  {
   "cell_type": "code",
   "execution_count": 4,
   "id": "944a3247",
   "metadata": {},
   "outputs": [
    {
     "data": {
      "image/png": "[encoded data removed]",
      "text/plain": [
       "<Figure size 432x288 with 1 Axes>"
      ]
     },
     "metadata": {
      "needs_background": "light"
     },
     "output_type": "display_data"
    }
   ],
   "source": [
    "# simulation\n",
    "s = s0\n",
    "vv = [1.5, 1.5]\n",
    "V= np.array(vv)*0.2\n",
    "nr_steps_shift =3000\n",
    "fig = plt.figure()\n",
    "for i in range(nr_steps_shift):\n",
    "    B = calculate_B(V)\n",
    "    s = dynamics(B, s, w_rec, tau, dt)\n",
    "\n",
    "plt.imshow(np.reshape(s, (40,40)))\n",
    "t = s"
   ]
  },
  {
   "cell_type": "code",
   "execution_count": 5,
   "id": "ca779df1",
   "metadata": {},
   "outputs": [
    {
     "data": {
      "text/plain": [
       "<matplotlib.collections.PathCollection at 0x1d8523b4a30>"
      ]
     },
     "execution_count": 5,
     "metadata": {},
     "output_type": "execute_result"
    },
    {
     "data": {
      "image/png": "[encoded data removed]",
      "text/plain": [
       "<Figure size 432x288 with 1 Axes>"
      ]
     },
     "metadata": {
      "needs_background": "light"
     },
     "output_type": "display_data"
    }
   ],
   "source": [
    "def in_(d):\n",
    "    eta = 0.25\n",
    "    #print(d.shape)\n",
    "    beta = 3/ 15**2\n",
    "    weight_in = eta * ( np.exp(-beta * d**2) - 1 )\n",
    "    #print(weight_in.shape)\n",
    "    return weight_in\n",
    "\n",
    "def ex_(d):\n",
    "    beta = 3 / 15**2\n",
    "    weight_ex = np.exp(-beta*d**2)\n",
    "    return weight_ex\n",
    "\n",
    "n_pod = 10 #size \n",
    "num_dir = 16 # number of directions of  phase offset detectors\n",
    "theta_pod = np.linspace(0, 2*np.pi, num_dir+1) \n",
    "theta_pod = theta_pod[0:num_dir] \n",
    "#print(theta_pod)\n",
    "\n",
    "x_pod = (np.indices((n_pod,n_pod))+1/2)*(n/(n_pod)) # create the POD and scaling it up to the grid cell dimensions. size n and scaling chosen to cover the whole grid cell\n",
    "#print(x_pod)\n",
    "y_c_pod = np.concatenate(x_pod[0]) # \n",
    "x_c_pod = np.concatenate(x_pod[1]) # \n",
    "\n",
    "v = np.reshape(s0,(40,40))\n",
    "plt.imshow(v)\n",
    "plt.scatter(x=x_pod[1], y=x_pod[0], c='r', s=30)"
   ]
  },
  {
   "cell_type": "code",
   "execution_count": 6,
   "id": "5887752b",
   "metadata": {},
   "outputs": [
    {
     "data": {
      "text/plain": [
       "<matplotlib.image.AxesImage at 0x1d85251e130>"
      ]
     },
     "execution_count": 6,
     "metadata": {},
     "output_type": "execute_result"
    },
    {
     "data": {
      "image/png": "[encoded data removed]",
      "text/plain": [
       "<Figure size 432x288 with 1 Axes>"
      ]
     },
     "metadata": {
      "needs_background": "light"
     },
     "output_type": "display_data"
    }
   ],
   "source": [
    "xd = comp_dist(x_c_pod, x_c)\n",
    "yd = comp_dist(y_c_pod, y_c)\n",
    "d = np.sqrt(xd**2+yd**2)\n",
    "w_in = in_(d)\n",
    "#print(w_in.shape)\n",
    "plt.imshow(np.reshape(w_in[:,0],(40,40)))\n",
    "#plt.imshow(np.reshape(w_in,(40,4000)))\n"
   ]
  },
  {
   "cell_type": "code",
   "execution_count": 34,
   "id": "e5201d54",
   "metadata": {},
   "outputs": [
    {
     "name": "stdout",
     "output_type": "stream",
     "text": [
      "(1600, 100)\n"
     ]
    },
    {
     "data": {
      "text/plain": [
       "<matplotlib.image.AxesImage at 0x1d855703970>"
      ]
     },
     "execution_count": 34,
     "metadata": {},
     "output_type": "execute_result"
    },
    {
     "data": {
      "image/png": "[encoded data removed]",
      "text/plain": [
       "<Figure size 432x288 with 1 Axes>"
      ]
     },
     "metadata": {
      "needs_background": "light"
     },
     "output_type": "display_data"
    }
   ],
   "source": [
    "delta = 8 # 5 for the value 7 i don't get an response from th ephase offset detector for this example shift\n",
    "w_ex = np.zeros((n**2, n_pod**2, num_dir))\n",
    "for i, angle in enumerate(theta_pod):\n",
    "    #print(angle)\n",
    "    y_c_pod_t = np.concatenate(x[0]) + delta * np.sin(angle)\n",
    "    x_c_pod_t = np.concatenate(x[1]) + delta * np.cos(angle)\n",
    "    xd = comp_dist(x_c_pod, x_c_pod_t)\n",
    "    yd = comp_dist(y_c_pod, y_c_pod_t)\n",
    "    d = np.sqrt(xd**2+yd**2)\n",
    "    #print(ex_(d).shape)\n",
    "    w_ex[:, :, i] = ex_(d)\n",
    "print(w_ex[:,:,0].shape)\n",
    "plt.imshow(np.reshape(w_ex[:,0,0],(40,40)))"
   ]
  },
  {
   "cell_type": "code",
   "execution_count": 35,
   "id": "8779fcca",
   "metadata": {
    "scrolled": true
   },
   "outputs": [
    {
     "data": {
      "text/plain": [
       "<matplotlib.image.AxesImage at 0x1d85576ceb0>"
      ]
     },
     "execution_count": 35,
     "metadata": {},
     "output_type": "execute_result"
    },
    {
     "data": {
      "image/png": "[encoded data removed]",
      "text/plain": [
       "<Figure size 432x288 with 4 Axes>"
      ]
     },
     "metadata": {
      "needs_background": "light"
     },
     "output_type": "display_data"
    }
   ],
   "source": [
    "plt.subplot(141)\n",
    "O = np.dot(s0,w_in)\n",
    "plt.title('s*w_in')\n",
    "plt.imshow(np.reshape(O,(10,10)))\n",
    "\n",
    "\n",
    "plt.subplot(142)\n",
    "plt.title('s0')\n",
    "plt.imshow(np.reshape(s0, (40,40)))\n",
    "\n",
    "\n",
    "plt.subplot(143)\n",
    "P = np.dot(t, w_ex[:,:,13])\n",
    "plt.title('t*w_ex')\n",
    "plt.imshow(np.reshape(P, (10,10)))\n",
    "\n",
    "\n",
    "plt.subplot(144)\n",
    "plt.title('t')\n",
    "plt.imshow(np.reshape(t, (40,40)))\n"
   ]
  },
  {
   "cell_type": "code",
   "execution_count": 36,
   "id": "ed039a47",
   "metadata": {},
   "outputs": [],
   "source": [
    "p = np.empty((n_pod**2, num_dir))\n",
    "for idx, angle in enumerate(theta_pod):\n",
    "    p[:,idx] = np.dot(s0,w_in) + np.dot(t, w_ex[:,:,idx])\n"
   ]
  },
  {
   "cell_type": "markdown",
   "id": "c74fee48",
   "metadata": {},
   "source": [
    "# No ReLU"
   ]
  },
  {
   "cell_type": "code",
   "execution_count": 37,
   "id": "a3c3e64c",
   "metadata": {
    "scrolled": true
   },
   "outputs": [
    {
     "data": {
      "image/png": "[encoded data removed]",
      "text/plain": [
       "<Figure size 432x288 with 16 Axes>"
      ]
     },
     "metadata": {
      "needs_background": "light"
     },
     "output_type": "display_data"
    }
   ],
   "source": [
    "for a in range(num_dir):\n",
    "    plt.subplot(4, 4, a+1)\n",
    "    #plt.title(\"N_R\")\n",
    "    plt.imshow(np.reshape(p[:,a], (10,10)))\n",
    "\n",
    "#     plt.subplot(4, 8, a+1)\n",
    "#     plt.title(\"ReLU\")\n",
    "#     plt.imshow(np.reshape(np.maximum(0, p[:,a]), (10,10)))"
   ]
  },
  {
   "cell_type": "markdown",
   "id": "7dd82ba7",
   "metadata": {},
   "source": [
    "# ReLU"
   ]
  },
  {
   "cell_type": "code",
   "execution_count": 38,
   "id": "82cbcdda",
   "metadata": {
    "scrolled": true
   },
   "outputs": [
    {
     "data": {
      "image/png": "[encoded data removed]",
      "text/plain": [
       "<Figure size 432x288 with 16 Axes>"
      ]
     },
     "metadata": {
      "needs_background": "light"
     },
     "output_type": "display_data"
    }
   ],
   "source": [
    "for a in range(num_dir):\n",
    "    plt.subplot(4, 4, a+1)\n",
    "    plt.title(\"ReLU\")\n",
    "    plt.imshow(np.reshape(np.maximum(0, p[:,a]), (10,10)))"
   ]
  },
  {
   "cell_type": "code",
   "execution_count": 40,
   "id": "2dc87c77",
   "metadata": {},
   "outputs": [
    {
     "name": "stdout",
     "output_type": "stream",
     "text": [
      "[0.022883313637676234, 0.9805087297466676]\n",
      "0.8579982440745972\n"
     ]
    }
   ],
   "source": [
    "p_theta = np.sum(np.maximum(0, p), axis = 0)\n",
    "#print(theta.shape)\n",
    "xx = 0\n",
    "yy = 0\n",
    "for idx, angle in enumerate(theta_pod):\n",
    "    #print(angle, np.cos(angle))\n",
    "    #print(np.cos(angle).shape)\n",
    "    xx += p_theta[idx] * np.cos(angle)\n",
    "    yy += p_theta[idx] * np.sin(angle)\n",
    "THETA = [xx,yy]\n",
    "print(THETA)\n",
    "print(np.max(np.maximum(0,p)))"
   ]
  },
  {
   "cell_type": "markdown",
   "id": "d232fc28",
   "metadata": {},
   "source": [
    "for v=[1.5 1.5] without np.max(0, p) goal vector [0.006051055914895187, 1.9326762412674725e-12]"
   ]
  },
  {
   "cell_type": "markdown",
   "id": "f8baa885",
   "metadata": {},
   "source": [
    "\n",
    "delta = 11\n",
    "\n",
    "for v=[1.5 1.5] with np.max(0, p) goal vector [0.6164946920579968, -0.6344377718136491]\n",
    "\n",
    "0.24396900932914756, 0.7546137492698817\n",
    "\n",
    "0.7800984372971729, 0.9271149721117973\n",
    "\n",
    "[0.7098635924826641, 0.020931417488778137]\n",
    "\n",
    "[0.6261197646574858, -4.027705327472479]\n",
    "\n",
    "\n",
    "delta = 7 \n",
    "\n",
    "[0.5780530744680039, 0.5103465782067066]\n",
    "\n",
    "[-0.16965297589084916, 0.4783034450434319]\n",
    "\n",
    "[0.33507899112023903, -0.33718731844432026]\n",
    "\n",
    "[0.6371668920456857, 0.4430629763769465]\n",
    "\n",
    "[0.42721897768666905, -2.352590848077949]"
   ]
  },
  {
   "cell_type": "markdown",
   "id": "26f1a341",
   "metadata": {},
   "source": [
    "Maximum of p is 0.85. array 0\n",
    "0.029563421249431343\n",
    "0.8246\n",
    "\n",
    "\n",
    "\n",
    "\n"
   ]
  },
  {
   "cell_type": "code",
   "execution_count": 13,
   "id": "76a1a307",
   "metadata": {},
   "outputs": [],
   "source": [
    "p_array = np.empty((num_dir, 1))\n",
    "for idx, angle in enumerate(theta_pod):\n",
    "    #print(type(w_in),type(np.tile(s, (int(n_pod ** 2), 1))), w_in.shape, np.tile(s, (int(n_pod ** 2),1)).shape)\n",
    "    p_in = np.multiply( w_in.T, np.tile(s0, (int(n_pod ** 2), 1)))\n",
    "    p_ex = np.multiply(np.tile(t, (int(n_pod ** 2), 1)), w_ex[:,:,idx].T)\n",
    "\n",
    "    p = np.maximum(0, np.sum(p_in, axis=1) + np.sum(p_ex, axis=1))\n",
    "    p_m = np.sum(p)\n",
    "    p_array[idx] = p_m"
   ]
  },
  {
   "cell_type": "code",
   "execution_count": 14,
   "id": "15de815f",
   "metadata": {},
   "outputs": [
    {
     "name": "stdout",
     "output_type": "stream",
     "text": [
      "(16, 1)\n",
      "[ 2.46952404 -1.86796419]\n"
     ]
    }
   ],
   "source": [
    "angles = theta_pod\n",
    "print(p_array.shape)\n",
    "x__ = np.dot(np.cos(angles), p_array)[0]\n",
    "y__ = np.dot(np.sin(angles), p_array)[0]\n",
    "goal_vector = np.array([x__, y__]) #* self.factor\n",
    "print(goal_vector)"
   ]
  },
  {
   "cell_type": "code",
   "execution_count": null,
   "id": "297bfa8c",
   "metadata": {},
   "outputs": [],
   "source": []
  },
  {
   "cell_type": "code",
   "execution_count": null,
   "id": "6b83aa19",
   "metadata": {},
   "outputs": [],
   "source": []
  },
  {
   "cell_type": "code",
   "execution_count": null,
   "id": "fdd08f98",
   "metadata": {},
   "outputs": [],
   "source": []
  }
 ],
 "metadata": {
  "kernelspec": {
   "display_name": "Python 3 (ipykernel)",
   "language": "python",
   "name": "python3"
  },
  "language_info": {
   "codemirror_mode": {
    "name": "ipython",
    "version": 3
   },
   "file_extension": ".py",
   "mimetype": "text/x-python",
   "name": "python",
   "nbconvert_exporter": "python",
   "pygments_lexer": "ipython3",
   "version": "3.8.12"
  }
 },
 "nbformat": 4,
 "nbformat_minor": 5
}
