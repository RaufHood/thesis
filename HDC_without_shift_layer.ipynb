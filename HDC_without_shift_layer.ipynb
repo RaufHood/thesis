{
  "cells": [
    {
      "cell_type": "markdown",
      "metadata": {
        "id": "view-in-github",
        "colab_type": "text"
      },
      "source": [
        "<a href=\"https://colab.research.google.com/github/RaufHood/thesis/blob/main/HDC_without_shift_layer.ipynb\" target=\"_parent\"><img src=\"https://colab.research.google.com/assets/colab-badge.svg\" alt=\"Open In Colab\"/></a>"
      ]
    },
    {
      "cell_type": "code",
      "execution_count": null,
      "id": "8cb9efcc",
      "metadata": {
        "id": "8cb9efcc"
      },
      "outputs": [],
      "source": [
        "import numpy as np\n",
        "import matplotlib.pyplot as plt\n",
        "from matplotlib.animation import FuncAnimation, writers\n",
        "import time\n",
        "from IPython import display"
      ]
    },
    {
      "cell_type": "code",
      "execution_count": null,
      "id": "d795f478",
      "metadata": {
        "id": "d795f478"
      },
      "outputs": [],
      "source": [
        "def f_0(theta, theta_0):\n",
        "  n_HDC = 100\n",
        "  A = 2.53 #Hz\n",
        "  K = 8.08\n",
        "  B = 35.8/np.exp(K)\n",
        "  #theta_0 = k* 1/n_HDC * 2* np.pi\n",
        "  f_o = A + B * np.exp(K*np.cos(theta-theta_0))\n",
        "  return f_o\n",
        "\n",
        "\n",
        "def targetPeakDefault(x):\n",
        "  K = 5.29\n",
        "  A = 1.72\n",
        "  B = 0.344\n",
        "  return A + B*np.exp(K*np.cos(x))\n",
        "\n",
        "\n",
        "# transfer function\n",
        "def phi_(x):\n",
        "  r_m = 76.2 #Hz\n",
        "  beta = 0.82\n",
        "  h_0 = 2.46\n",
        "  out=r_m/(1+np.exp(-beta*(x-h_0)))\n",
        "  return out\n",
        "\n",
        "# inverse of the transfer function\n",
        "def phi_inv(f):\n",
        "  r_m = 76.2 #Hz\n",
        "  beta = 0.82\n",
        "  h_0 = 2.46\n",
        "  return h_0+np.log(-f /(f-r_m))/beta"
      ]
    },
    {
      "cell_type": "code",
      "execution_count": null,
      "id": "b8a87407",
      "metadata": {
        "id": "b8a87407"
      },
      "outputs": [],
      "source": [
        "n_HDC = 100                          # define the number of neurons\n",
        "theta = np.linspace(0, 2*np.pi, 100) # define angles"
      ]
    },
    {
      "cell_type": "code",
      "execution_count": null,
      "id": "e0e2a9aa",
      "metadata": {
        "id": "e0e2a9aa"
      },
      "outputs": [],
      "source": [
        "def get_weight_u(theta):\n",
        "  #for i in range(n_HDC):             #calculate the weigth vector w (representing connections of one neuron to all other neurons)\n",
        "                                     #for each neuron n\n",
        "  #preference_angle = theta[i]\n",
        "  f = targetPeakDefault(theta) #f_0(np.zeros_like(theta), -preference_angle) # define firing rate \n",
        "  u = phi_inv(f)                   # calculate the synaptic input\n",
        "  f_ = np.fft.fft(f)               # calculate the fourier transoform\n",
        "  u_ = np.fft.fft(u)\n",
        "  \n",
        "  lam = 25824                               # regularization parameter\n",
        "  #if i==1:\n",
        "  #  print((u_*f_).shape,u.shape)\n",
        "  w_ = np.fft.ifft( u_*f_/(lam+np.abs(f_)**2)) # closed form solution for w_\n",
        "  #print(w.shape, w_array.shape)\n",
        "                            \n",
        "  w = np.fft.ifft(w_)\n",
        "  #w_array[:] = w                          # save it in the weight matrix\n",
        "  #conv = np.fft.ifft(w_*f_)                 # calculate the convolution for diff. eq. for u\n",
        "  #print(w.shape)\n",
        "  return (u, w) #, conv)\n",
        "\n",
        "def connection(i, j):\n",
        "        def resolve_index(i,j,n_HDC):\n",
        "            if abs(i-j)>float(n_HDC)/2.0:\n",
        "                return abs(abs(i-j)-float(n_HDC))\n",
        "            else:\n",
        "                return abs(i-j)\n",
        "        return np.real(w[int(resolve_index(i, j, n_HDC))])"
      ]
    },
    {
      "cell_type": "code",
      "execution_count": null,
      "id": "c01b2e97",
      "metadata": {
        "id": "c01b2e97"
      },
      "outputs": [],
      "source": [
        "firing_rates = np.zeros(n_HDC)\n",
        "f = targetPeakDefault(theta)\n",
        "w, u = get_weight_u(theta)"
      ]
    },
    {
      "cell_type": "markdown",
      "id": "78dedc52",
      "metadata": {
        "id": "78dedc52"
      },
      "source": [
        "This is the tuning curve we want to have, stable over time in absence of external stimuly (angular velocity of the head = 0)"
      ]
    },
    {
      "cell_type": "code",
      "source": [
        "'''plt.plot(theta, f_0(theta, np.pi))\n",
        "plt.xlabel(\"angle (rad)\")\n",
        "plt.ylabel(\"firing rate (spikes/s)\")'''"
      ],
      "metadata": {
        "colab": {
          "base_uri": "https://localhost:8080/",
          "height": 35
        },
        "id": "riFpYNKmNzd9",
        "outputId": "e0ca1b20-7393-4562-889a-488ec01b6249"
      },
      "id": "riFpYNKmNzd9",
      "execution_count": null,
      "outputs": [
        {
          "output_type": "execute_result",
          "data": {
            "text/plain": [
              "'plt.plot(theta, f_0(theta, np.pi))\\nplt.xlabel(\"angle (rad)\")\\nplt.ylabel(\"firing rate (spikes/s)\")'"
            ],
            "application/vnd.google.colaboratory.intrinsic+json": {
              "type": "string"
            }
          },
          "metadata": {},
          "execution_count": 6
        }
      ]
    },
    {
      "cell_type": "code",
      "execution_count": null,
      "id": "0c5c1236",
      "metadata": {
        "id": "0c5c1236",
        "outputId": "53513dd3-3d2b-4a5c-e266-5debd6db5c20",
        "colab": {
          "base_uri": "https://localhost:8080/",
          "height": 282
        }
      },
      "outputs": [
        {
          "output_type": "execute_result",
          "data": {
            "text/plain": [
              "[<matplotlib.lines.Line2D at 0x7f8d8033dd90>]"
            ]
          },
          "metadata": {},
          "execution_count": 7
        },
        {
          "output_type": "display_data",
          "data": {
            "text/plain": [
              "<Figure size 432x288 with 1 Axes>"
            ],
            "image/png": "[encoded data removed]"
          },
          "metadata": {
            "needs_background": "light"
          }
        }
      ],
      "source": [
        "plt.plot(theta, f)"
      ]
    },
    {
      "cell_type": "code",
      "execution_count": null,
      "id": "f64f967f",
      "metadata": {
        "id": "f64f967f"
      },
      "outputs": [],
      "source": [
        "#print(f)\n",
        "conn_matrix = np.zeros((n_HDC, n_HDC))\n",
        "for i in range(n_HDC):\n",
        "    for j in range(n_HDC):\n",
        "        conn_matrix[i,j] = connection(i,j)\n"
      ]
    },
    {
      "cell_type": "markdown",
      "id": "96adbfef",
      "metadata": {
        "id": "96adbfef"
      },
      "source": [
        "These are the weights reppresenting the connection of HDC cells to each other.  \n",
        "One row of the matrix is the connection of one HDC to all the others leading to a connection matrix of shape (100 x 100)"
      ]
    },
    {
      "cell_type": "code",
      "execution_count": null,
      "id": "c2274cee",
      "metadata": {
        "id": "c2274cee",
        "outputId": "76bd1a48-1fd8-4522-cfc5-444e86badc97",
        "colab": {
          "base_uri": "https://localhost:8080/",
          "height": 285
        }
      },
      "outputs": [
        {
          "output_type": "execute_result",
          "data": {
            "text/plain": [
              "<matplotlib.image.AxesImage at 0x7f8d800c8820>"
            ]
          },
          "metadata": {},
          "execution_count": 9
        },
        {
          "output_type": "display_data",
          "data": {
            "text/plain": [
              "<Figure size 432x288 with 1 Axes>"
            ],
            "image/png": "[encoded data removed]"
          },
          "metadata": {
            "needs_background": "light"
          }
        }
      ],
      "source": [
        "plt.imshow(conn_matrix)"
      ]
    },
    {
      "cell_type": "code",
      "source": [
        "len(conn_matrix[45])\n",
        "plt.plot(theta,conn_matrix[45])"
      ],
      "metadata": {
        "colab": {
          "base_uri": "https://localhost:8080/",
          "height": 282
        },
        "id": "SWJcvE99giG4",
        "outputId": "6ea5c7dd-4ffe-45e9-bab2-1c3f97cf86bc"
      },
      "id": "SWJcvE99giG4",
      "execution_count": null,
      "outputs": [
        {
          "output_type": "execute_result",
          "data": {
            "text/plain": [
              "[<matplotlib.lines.Line2D at 0x7f8d54bb5c40>]"
            ]
          },
          "metadata": {},
          "execution_count": 11
        },
        {
          "output_type": "display_data",
          "data": {
            "text/plain": [
              "<Figure size 432x288 with 1 Axes>"
            ],
            "image/png": "[encoded data removed]"
          },
          "metadata": {
            "needs_background": "light"
          }
        }
      ]
    },
    {
      "cell_type": "code",
      "source": [
        "\n",
        "def multiple_formatter(denominator=2, number=np.pi, latex='\\pi'):\n",
        "    def gcd(a, b):\n",
        "        while b:\n",
        "            a, b = b, a%b\n",
        "        return a\n",
        "    def _multiple_formatter(x, pos):\n",
        "        den = denominator\n",
        "        num = np.int(np.rint(den*x/number))\n",
        "        com = gcd(num,den)\n",
        "        (num,den) = (int(num/com),int(den/com))\n",
        "        if den==1:\n",
        "            if num==0:\n",
        "                return r'$0$'\n",
        "            if num==1:\n",
        "                return r'$%s$'%latex\n",
        "            elif num==-1:\n",
        "                return r'$-%s$'%latex\n",
        "            else:\n",
        "                return r'$%s%s$'%(num,latex)\n",
        "        else:\n",
        "            if num==1:\n",
        "                return r'$\\frac{%s}{%s}$'%(latex,den)\n",
        "            elif num==-1:\n",
        "                return r'$\\frac{-%s}{%s}$'%(latex,den)\n",
        "            else:\n",
        "                return r'$\\frac{%s%s}{%s}$'%(num,latex,den)\n",
        "    return _multiple_formatter"
      ],
      "metadata": {
        "id": "NXnm6FQKtPhC"
      },
      "id": "NXnm6FQKtPhC",
      "execution_count": null,
      "outputs": []
    },
    {
      "cell_type": "code",
      "source": [
        "class Multiple:\n",
        "    def __init__(self, denominator=2, number=np.pi, latex='\\pi'):\n",
        "        self.denominator = denominator\n",
        "        self.number = number\n",
        "        self.latex = latex\n",
        "    def locator(self):\n",
        "        return plt.MultipleLocator(self.number / self.denominator)\n",
        "    def formatter(self):\n",
        "        return plt.FuncFormatter(multiple_formatter(self.denominator, self.number, self.latex))"
      ],
      "metadata": {
        "id": "UZD1ywBAs8Zo"
      },
      "id": "UZD1ywBAs8Zo",
      "execution_count": null,
      "outputs": []
    },
    {
      "cell_type": "code",
      "source": [
        "fig, ax = plt.subplots()\n",
        "len(conn_matrix[45])\n",
        "plt.plot(theta,15*np.exp(-(theta-np.pi)**2/1)-8)\n",
        "plt.plot(theta, np.zeros_like(theta))\n",
        "plt.xlabel(\"$\\Delta \\\\theta$\", fontsize=18)\n",
        "plt.ylabel(\"$w(\\\\Delta \\\\theta)$\", fontsize=18)\n",
        "ax.set_yticklabels([0])\n",
        "plt.yticks([0])\n",
        "den =2\n",
        "major = Multiple(den, np.pi, r'\\pi')\n",
        "minor = Multiple(den*4, np.pi, r'\\pi')\n",
        "ax.xaxis.set_major_locator(major.locator())\n",
        "ax.xaxis.set_minor_locator(minor.locator())\n",
        "ax.xaxis.set_major_formatter(major.formatter())\n",
        "plt.xticks(fontsize=18)\n",
        "plt.yticks(fontsize=18)"
      ],
      "metadata": {
        "colab": {
          "base_uri": "https://localhost:8080/",
          "height": 394
        },
        "id": "bZWkm-2yn4sW",
        "outputId": "a08fc331-d2b2-4e2e-a8c1-1812eee934f5"
      },
      "id": "bZWkm-2yn4sW",
      "execution_count": null,
      "outputs": [
        {
          "output_type": "execute_result",
          "data": {
            "text/plain": [
              "(array([0]), <a list of 1 Text major ticklabel objects>)"
            ]
          },
          "metadata": {},
          "execution_count": 54
        },
        {
          "output_type": "stream",
          "name": "stderr",
          "text": [
            "<ipython-input-38-644cc7ad3765>:8: DeprecationWarning: `np.int` is a deprecated alias for the builtin `int`. To silence this warning, use `int` by itself. Doing this will not modify any behavior and is safe. When replacing `np.int`, you may wish to use e.g. `np.int64` or `np.int32` to specify the precision. If you wish to review your current use, check the release note link for additional information.\n",
            "Deprecated in NumPy 1.20; for more details and guidance: https://numpy.org/devdocs/release/1.20.0-notes.html#deprecations\n",
            "  num = np.int(np.rint(den*x/number))\n"
          ]
        },
        {
          "output_type": "display_data",
          "data": {
            "text/plain": [
              "<Figure size 432x288 with 1 Axes>"
            ],
            "image/png": "[encoded data removed]"
          },
          "metadata": {
            "needs_background": "light"
          }
        }
      ]
    },
    {
      "cell_type": "code",
      "source": [
        "theta"
      ],
      "metadata": {
        "colab": {
          "base_uri": "https://localhost:8080/"
        },
        "id": "ofd2be1cphmp",
        "outputId": "574cc92c-068a-4a28-e7b5-9e0c17568fa7"
      },
      "id": "ofd2be1cphmp",
      "execution_count": null,
      "outputs": [
        {
          "output_type": "execute_result",
          "data": {
            "text/plain": [
              "array([0.        , 0.06346652, 0.12693304, 0.19039955, 0.25386607,\n",
              "       0.31733259, 0.38079911, 0.44426563, 0.50773215, 0.57119866,\n",
              "       0.63466518, 0.6981317 , 0.76159822, 0.82506474, 0.88853126,\n",
              "       0.95199777, 1.01546429, 1.07893081, 1.14239733, 1.20586385,\n",
              "       1.26933037, 1.33279688, 1.3962634 , 1.45972992, 1.52319644,\n",
              "       1.58666296, 1.65012947, 1.71359599, 1.77706251, 1.84052903,\n",
              "       1.90399555, 1.96746207, 2.03092858, 2.0943951 , 2.15786162,\n",
              "       2.22132814, 2.28479466, 2.34826118, 2.41172769, 2.47519421,\n",
              "       2.53866073, 2.60212725, 2.66559377, 2.72906028, 2.7925268 ,\n",
              "       2.85599332, 2.91945984, 2.98292636, 3.04639288, 3.10985939,\n",
              "       3.17332591, 3.23679243, 3.30025895, 3.36372547, 3.42719199,\n",
              "       3.4906585 , 3.55412502, 3.61759154, 3.68105806, 3.74452458,\n",
              "       3.8079911 , 3.87145761, 3.93492413, 3.99839065, 4.06185717,\n",
              "       4.12532369, 4.1887902 , 4.25225672, 4.31572324, 4.37918976,\n",
              "       4.44265628, 4.5061228 , 4.56958931, 4.63305583, 4.69652235,\n",
              "       4.75998887, 4.82345539, 4.88692191, 4.95038842, 5.01385494,\n",
              "       5.07732146, 5.14078798, 5.2042545 , 5.26772102, 5.33118753,\n",
              "       5.39465405, 5.45812057, 5.52158709, 5.58505361, 5.64852012,\n",
              "       5.71198664, 5.77545316, 5.83891968, 5.9023862 , 5.96585272,\n",
              "       6.02931923, 6.09278575, 6.15625227, 6.21971879, 6.28318531])"
            ]
          },
          "metadata": {},
          "execution_count": 13
        }
      ]
    },
    {
      "cell_type": "markdown",
      "id": "b1e2f4d4",
      "metadata": {
        "id": "b1e2f4d4"
      },
      "source": [
        "Here is a simulation for (200.000 steps = 200 s). The formed pattern is stable over time after 25 steps = 25 ms, however there is an offset which we account by subtraction at the readout time."
      ]
    },
    {
      "cell_type": "code",
      "execution_count": null,
      "id": "2416305a",
      "metadata": {
        "id": "2416305a",
        "outputId": "120b5e91-de6a-4fc4-d4bb-ce6d646cf556"
      },
      "outputs": [
        {
          "data": {
            "text/plain": [
              "[<matplotlib.lines.Line2D at 0x1e3d677b940>]"
            ]
          },
          "execution_count": 9,
          "metadata": {},
          "output_type": "execute_result"
        },
        {
          "data": {
            "image/png": "[encoded data removed]",
            "text/plain": [
              "<Figure size 432x288 with 1 Axes>"
            ]
          },
          "metadata": {
            "needs_background": "light"
          },
          "output_type": "display_data"
        }
      ],
      "source": [
        "tau1 = 0.02\n",
        "dt = 0.001\n",
        "f_list = []\n",
        "l = 200000\n",
        "#f = np.zeros(n_HDC)\n",
        "for i in range(l):\n",
        "    u = np.dot(w,f.T)\n",
        "    f_new = phi_(u)\n",
        "    f2 = (f_new-f)*dt/tau1 + f\n",
        "    f_list.append(f2)\n",
        "    f = 1.0526316*f2\n",
        "f = f - (110.4468-1.7217)\n",
        "#to have the desired shape : scale f = alpha * f for each iteration\n",
        "# and adding an offset f = f + beta\n",
        "plt.plot(theta,f)"
      ]
    },
    {
      "cell_type": "code",
      "execution_count": null,
      "id": "6974233b",
      "metadata": {
        "id": "6974233b",
        "outputId": "3bc8b679-38d1-4f6e-9424-474428689838"
      },
      "outputs": [
        {
          "name": "stdout",
          "output_type": "stream",
          "text": [
            "1.7217262662162796\n"
          ]
        }
      ],
      "source": [
        "print(np.min(f))"
      ]
    },
    {
      "cell_type": "code",
      "execution_count": null,
      "id": "ea838457",
      "metadata": {
        "id": "ea838457",
        "outputId": "68198ab6-0d37-4f81-9f85-766ac3a5742f"
      },
      "outputs": [
        {
          "data": {
            "image/png": "[encoded data removed]",
            "text/plain": [
              "<Figure size 432x288 with 1 Axes>"
            ]
          },
          "metadata": {
            "needs_background": "light"
          },
          "output_type": "display_data"
        }
      ],
      "source": [
        "%matplotlib inline\n",
        "for i in range(l):\n",
        "    try:\n",
        "        plt.clf()\n",
        "        plt.plot(theta, f_list[i])\n",
        "        display.display(plt.gcf())\n",
        "        display.clear_output(wait=True)\n",
        "        time.sleep(1)\n",
        "        plt.xlim(0,7)\n",
        "        plt.ylim(-10,10)\n",
        "        print(i)\n",
        "    except KeyboardInterrupt:\n",
        "        break\n"
      ]
    },
    {
      "cell_type": "code",
      "execution_count": null,
      "id": "3219afeb",
      "metadata": {
        "id": "3219afeb"
      },
      "outputs": [],
      "source": []
    },
    {
      "cell_type": "code",
      "execution_count": null,
      "id": "3210f37a",
      "metadata": {
        "id": "3210f37a"
      },
      "outputs": [],
      "source": []
    }
  ],
  "metadata": {
    "kernelspec": {
      "display_name": "Python 3 (ipykernel)",
      "language": "python",
      "name": "python3"
    },
    "language_info": {
      "codemirror_mode": {
        "name": "ipython",
        "version": 3
      },
      "file_extension": ".py",
      "mimetype": "text/x-python",
      "name": "python",
      "nbconvert_exporter": "python",
      "pygments_lexer": "ipython3",
      "version": "3.8.12"
    },
    "colab": {
      "provenance": [],
      "include_colab_link": true
    }
  },
  "nbformat": 4,
  "nbformat_minor": 5
}