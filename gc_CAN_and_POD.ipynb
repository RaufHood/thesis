{
 "cells": [
  {
   "cell_type": "markdown",
   "id": "ff5c3bbd",
   "metadata": {},
   "source": [
    "# Grid cell + phase offset \n",
    "In this Notebook <b>grid cell modules</b> are created as well as functions for the phase decoding using <b>phase offset detectors.</b>  \n",
    "\n",
    "The starting point has the grid cell activity <b>s_0</b>. After going in a certain direction for predefined a number of time steps the activity <b>t</b> is measured at the end location. (current location)  \n",
    "\n",
    "Then the phase offset detectors calculates the <b>goal vector</b> toward the original starting point with activity s0.  \n",
    "\n",
    "The parameters are the same as for Tim."
   ]
  },
  {
   "cell_type": "markdown",
   "id": "e41da30e",
   "metadata": {},
   "source": [
    "Definition of tthe grid cell modules, the phase offset detector and other functions."
   ]
  },
  {
   "cell_type": "code",
   "execution_count": 1,
   "id": "ae116179",
   "metadata": {},
   "outputs": [],
   "source": [
    "import numpy as np\n",
    "import matplotlib.pyplot as plt\n",
    "import matplotlib.animation as animation\n",
    "\n",
    "#grid cell modules\n",
    "def create_gm(m):\n",
    "    M = 5\n",
    "    g_min = 0.5\n",
    "    g_max = 6.0\n",
    "    g_m = g_min *(g_max/g_min)**((m-1)/(M-1))\n",
    "    \n",
    "    return g_m\n",
    "\n",
    "def rec(d):\n",
    "    llambda = 15\n",
    "    beta = 3 /(llambda**2)\n",
    "    gamma = 1.05*beta\n",
    "    w = np.exp(-gamma*d**2)-np.exp(-beta*d**2)\n",
    "    return w\n",
    "\n",
    "def comp_dist(a, b):\n",
    "    na = int(np.sqrt(len(a)))\n",
    "    nb = int(np.sqrt(len(b)))\n",
    "    #print((a))\n",
    "    a_ = np.tile(a, (nb**2,1))\n",
    "    b_ = np.tile(b, (na**2,1))\n",
    "    \n",
    "    dist1 = np.abs(a_-b_.T)\n",
    "    dist2 = n - dist1\n",
    "    return np.minimum(dist1, dist2)\n",
    "\n",
    "def dynamics(b, s0_, w, tau, dt):\n",
    "    \"\"\"Solve the grid cell spiking equation with implicit euler for one time step of size dt\"\"\"\n",
    "    \n",
    "    f = np.maximum(0, np.tensordot(s0_, w, axes=1) + b)\n",
    "    s = (s0_ + f * dt / tau) / (1 + dt / tau)\n",
    "    return s\n",
    "\n",
    "\n",
    "\n",
    "def create_gc_module():\n",
    "    #create a set of indeces for the neurons\n",
    "    n= 40\n",
    "    x = np.indices((n,n))\n",
    "    global x_c, y_c\n",
    "    y_c = np.concatenate(x[0])\n",
    "    x_c = np.concatenate(x[1])\n",
    "    \n",
    "    #incorporate directional preference\n",
    "    directions = [[1,0],[0,1],[-1,0],[0,-1]]#  E N W S\n",
    "    z = 2 * (y_c % 2) + x_c % 2\n",
    "    global g\n",
    "    g = np.take(directions, z, axis=0) # g is an array with the vector of directional preference for each neuron\n",
    "    x_s = x_c - g[:, 0]                # subtract to each neuron position the vector of directional preference.\n",
    "    y_s = y_c - g[:, 1]\n",
    "    \n",
    "    # calculate distance matrix and recurrent weights\n",
    "    xdist = comp_dist(x_c,x_s)\n",
    "    ydist = comp_dist(y_c,y_s)\n",
    "    dist_f = np.sqrt(xdist**2+ydist**2)\n",
    "    global w_rec\n",
    "    w_rec = rec(dist_f)\n",
    "    \n",
    "def calculate_B(v, g, g_m):\n",
    "    \n",
    "    alpha = 0.10315\n",
    "    tau = 1e-1\n",
    "    dt = 1e-2\n",
    "    #print(g)\n",
    "    #print(v)\n",
    "    B = 1 + g_m * alpha * np.tensordot(g, v, axes=1)\n",
    "    return B\n",
    "\n",
    "\n",
    "def init_gc_module(tau, dt):\n",
    "    nr_steps =1000\n",
    "    global s\n",
    "    s = np.random.rand(n**2)*10**(-2)\n",
    "    \n",
    "    for i in range(nr_steps):\n",
    "        v = np.random.rand(2)*0.2\n",
    "        B = calculate_B(v, g, g_m)\n",
    "        s = dynamics(B, s, w_rec, tau, dt)\n",
    "    global s0\n",
    "    s0 = s\n",
    "    return s\n",
    "\n",
    "def  create_shift(direction):\n",
    "    s = s0\n",
    "    V= np.array(direction)\n",
    "    v_sh= np.random.rand(2)*0.2\n",
    "    dt = 1e-2\n",
    "    nr_steps_shift =3500\n",
    "    global original_goal_vec\n",
    "    original_goal_vec = V*dt*nr_steps_shift\n",
    "    \n",
    "    #print(V.shape, v_sh.shape)\n",
    "    for i in range(nr_steps_shift):\n",
    "        B = calculate_B(V, g, g_m)\n",
    "        s = dynamics(B, s, w_rec, tau, dt)\n",
    "        \n",
    "        # make the pattern stable\n",
    "    for i in range(int(nr_steps_shift/10)):\n",
    "        B = calculate_B(v_sh, g, g_m)\n",
    "        s = dynamics(B, s, w_rec, tau, dt)\n",
    "    global t\n",
    "    t = s\n",
    "    return t\n",
    "\n",
    "#POD\n",
    "def in_(d):\n",
    "    eta = 0.25\n",
    "    #print(d.shape)\n",
    "    beta = 3/ 15**2\n",
    "    weight_in = eta * ( np.exp(-beta * d**2) - 1 )\n",
    "    #print(weight_in.shape)\n",
    "    return weight_in\n",
    "\n",
    "def ex_(d):\n",
    "    beta = 3 / 15**2\n",
    "    weight_ex = np.exp(-beta*d**2)\n",
    "    return weight_ex\n",
    "\n",
    "def create_POD():\n",
    "    n_pod = 10 #size \n",
    "    num_dir = 16 # number of directions of  phase offset detectors\n",
    "    global theta_pod\n",
    "    theta_pod = np.linspace(0, 2*np.pi, num_dir+1) \n",
    "    theta_pod = theta_pod[0:num_dir] \n",
    "    x_pod = (np.indices((n_pod,n_pod))+1/2)*(n/(n_pod)) # create the POD and scaling it up to the grid cell dimensions. size n and scaling chosen to cover the whole grid cell\n",
    "    y_c_pod = np.concatenate(x_pod[0]) # \n",
    "    x_c_pod = np.concatenate(x_pod[1]) # \n",
    "\n",
    "    xd = comp_dist(x_c_pod, x_c)\n",
    "    yd = comp_dist(y_c_pod, y_c)\n",
    "    d = np.sqrt(xd**2+yd**2)\n",
    "    global w_in, w_ex\n",
    "    w_in = in_(d)\n",
    "    \n",
    "    delta = 7 # 5 for the value 7 i don't get an response from th ephase offset detector for this example shift\n",
    "    w_ex = np.zeros((n**2, n_pod**2, num_dir))\n",
    "    for i, angle in enumerate(theta_pod):\n",
    "        \n",
    "        y_c_pod_t = y_c + delta * np.sin(angle)\n",
    "        x_c_pod_t = x_c + delta * np.cos(angle)\n",
    "        xd = comp_dist(x_c_pod, x_c_pod_t)\n",
    "        yd = comp_dist(y_c_pod, y_c_pod_t)\n",
    "        d = np.sqrt(xd**2+yd**2)\n",
    "        \n",
    "        w_ex[:, :, i] = ex_(d)\n",
    "        \n",
    "def motor_output():\n",
    "    p = np.empty((n_pod**2, num_dir))\n",
    "    for idx, angle in enumerate(theta_pod):\n",
    "        p[:,idx] = np.dot(t,w_in) + np.dot(s0, w_ex[:,:,idx])\n",
    "    return p\n",
    "        \n",
    "def calculate_goal_vec(g_mlist, p_list, num_dir):\n",
    "    p_array = np.array(p_list)\n",
    "    g_marray = np.array(g_mlist)\n",
    "    p_theta = np.sum(np.maximum(0, p_array), axis = 1) #sum activity of all POD with same angle within one module\n",
    "    xx = 0\n",
    "    yy = 0\n",
    "    #create a matrix S_ of g_m factors to divide to the respective module p_array\n",
    "    S = np.repeat(g_marray[:,np.newaxis], num_dir, axis=1)\n",
    "    p_theta1 = p_theta/S                              #weight with inverse of g_mFp_theta1\n",
    "    p_sum = np.sum(p_theta1, axis =0)                    #sum over modules\n",
    "    rho = 0.33\n",
    "    for idx, angle in enumerate(theta_pod):\n",
    "        xx += p_sum[idx] * np.cos(angle) * rho \n",
    "        yy += p_sum[idx] * np.sin(angle) * rho \n",
    "    THETA = [xx,yy]\n",
    "    return THETA\n",
    "    "
   ]
  },
  {
   "cell_type": "markdown",
   "id": "f6c65c9c",
   "metadata": {},
   "source": [
    "# Start simulation for M grid cell modules"
   ]
  },
  {
   "cell_type": "code",
   "execution_count": 2,
   "id": "19be791b",
   "metadata": {},
   "outputs": [],
   "source": [
    "\n",
    "#create grid cell network\n",
    "\n",
    "n= 40\n",
    "M = 1    # can be changed to have more modules for example up to 6 \n",
    "tau = 1e-1\n",
    "dt = 1e-2\n",
    "shift_vel_vec=[0, 0.5] # can be changed for reaching different directions\n",
    "i = 0\n",
    "\n",
    "num_dir=16 # number of directions of  phase offset detectors\n",
    "n_pod = 10 #size  of POD\n",
    "p_list = []\n",
    "g_mlist =[]\n",
    "s_list = []\n",
    "t_list = []\n",
    "for m in range(M):\n",
    "    g_m = create_gm(m)\n",
    "    g_mlist.append(g_m)\n",
    "    gc_module = create_gc_module()\n",
    "    s_list.append(init_gc_module(tau, dt))\n",
    "    t_list.append(create_shift(shift_vel_vec))\n",
    "    create_POD()\n",
    "    p_list.append(motor_output())\n",
    "\n",
    "goal_vec = calculate_goal_vec(g_mlist, p_list, num_dir)"
   ]
  },
  {
   "cell_type": "code",
   "execution_count": 3,
   "id": "5907e734",
   "metadata": {},
   "outputs": [
    {
     "name": "stdout",
     "output_type": "stream",
     "text": [
      "original goal vector is [ 0.  17.5] estimated goal vector is [-0.1916035302036554, -16.67563557258488]\n"
     ]
    }
   ],
   "source": [
    "print(\"original goal vector is\", original_goal_vec, \"estimated goal vector is\", goal_vec)"
   ]
  },
  {
   "cell_type": "markdown",
   "id": "a5c7b86f",
   "metadata": {},
   "source": [
    "Plot of the goal vector."
   ]
  },
  {
   "cell_type": "code",
   "execution_count": 4,
   "id": "d471a22b",
   "metadata": {},
   "outputs": [
    {
     "data": {
      "text/plain": [
       "<matplotlib.quiver.Quiver at 0x16e3b123fa0>"
      ]
     },
     "execution_count": 4,
     "metadata": {},
     "output_type": "execute_result"
    },
    {
     "data": {
      "image/png": "[encoded data removed]",
      "text/plain": [
       "<Figure size 432x288 with 1 Axes>"
      ]
     },
     "metadata": {
      "needs_background": "light"
     },
     "output_type": "display_data"
    }
   ],
   "source": [
    "u = np.array(shift_vel_vec)*3500*dt\n",
    "axes = plt.gca()\n",
    "axes.xaxis.label.set_size(200)\n",
    "axes.yaxis.label.set_size(200)\n",
    "plt.scatter(u[0],u[1], color=\"red\", s=30) #current point\n",
    "plt.scatter(20,20, color=\"red\", s=0)\n",
    "plt.scatter(-20,-20, color=\"red\", s=0)\n",
    "plt.scatter([0],[0], color= \"blue\", s = 30) #start point\n",
    "plt.gca().set_aspect('equal', adjustable='box')\n",
    "plt.quiver(u[0], u[1],*np.array(goal_vec),  scale=40)"
   ]
  },
  {
   "cell_type": "markdown",
   "id": "9b989d7e",
   "metadata": {},
   "source": [
    "The measures used for comparison are the error in the endposition delta, the error in angle alpha and in lenght d of the goal vector."
   ]
  },
  {
   "cell_type": "code",
   "execution_count": 5,
   "id": "8ceb79f5",
   "metadata": {},
   "outputs": [
    {
     "name": "stdout",
     "output_type": "stream",
     "text": [
      "delta= 0.8463383613980644 m alpha = 0.011488352005647906 ° d= 0.8232636987195612 m\n"
     ]
    }
   ],
   "source": [
    "delta = np.linalg.norm(original_goal_vec+goal_vec)\n",
    "eps = 0.00001 #to avoid dividing by zero\n",
    "alpha1 = np.arctan(original_goal_vec[1]/(original_goal_vec[0] + eps))\n",
    "alpha2 = np.arctan(goal_vec[1]/(goal_vec[0] + eps))\n",
    "d = np.linalg.norm(original_goal_vec) - np.linalg.norm(goal_vec)\n",
    "print(\"delta=\", delta, \"m\",\"alpha =\", alpha1- alpha2, \"°\", \"d=\", d, \"m\")"
   ]
  },
  {
   "cell_type": "markdown",
   "id": "b07685a1",
   "metadata": {},
   "source": [
    "# Simulation for 36 angles\n",
    "Might take long for more modules."
   ]
  },
  {
   "cell_type": "code",
   "execution_count": 6,
   "id": "938d00f8",
   "metadata": {},
   "outputs": [
    {
     "name": "stdout",
     "output_type": "stream",
     "text": [
      "trial number 6 angle 0.8975979010256552\n",
      "delta= 2.0482865163715465 alpha = 0.07187374231361643 d= -1.5722644555714673\n",
      "trial number 12 angle 1.9747153822564414\n",
      "delta= 0.9392536736027791 alpha = 0.05057288605145477 d= 0.3379840172784725\n",
      "trial number 18 angle 3.0518328634872276\n",
      "delta= 1.150886313083542 alpha = 0.06565198266768002 d= 0.11824163445924185\n",
      "trial number 24 angle 4.128950344718014\n",
      "delta= 3.8337764394221345 alpha = -0.05175771182086031 d= 3.7487743037523007\n",
      "trial number 30 angle 5.2060678259488\n",
      "delta= 2.8550765321139693 alpha = -0.029181953072225264 d= -2.801596652819427\n",
      "trial number 36 angle 6.283185307179586\n",
      "delta= 1.6834692393159862 alpha = 0.013973069164107343 d= 1.6673220710467493\n"
     ]
    }
   ],
   "source": [
    "goal_vecs = []\n",
    "orig_goal_vecs = []\n",
    "deltas = []\n",
    "alphas = []\n",
    "ds = []\n",
    "i=0\n",
    "test_angles = np.linspace(0, 2*np.pi, 36)\n",
    "for a in range(36):\n",
    "    #create grid cell network\n",
    "    \n",
    "    plot = False\n",
    "    plot_shift = False\n",
    "    n= 40\n",
    "    M = 1\n",
    "    tau = 1e-1\n",
    "    dt = 1e-2\n",
    "    shift_vel_vec=[0.5 * np.sin(test_angles[a]), 0.5 * np.cos(test_angles[a])]\n",
    "    i +=1\n",
    "\n",
    "    num_dir=16 # number of directions of  phase offset detectors\n",
    "    n_pod = 10 #size  of POD\n",
    "    p_list = []\n",
    "    g_mlist =[]\n",
    "    s_list = []\n",
    "    t_list = []\n",
    "    for m in range(M):\n",
    "        g_m = create_gm(m)\n",
    "        g_mlist.append(g_m)\n",
    "\n",
    "        gc_module = create_gc_module()\n",
    "        s_list.append(init_gc_module(tau, dt))\n",
    "        t_list.append(create_shift(shift_vel_vec))\n",
    "        \n",
    "        create_POD()\n",
    "        p_list.append(motor_output())\n",
    "        \n",
    "    goal_vec = calculate_goal_vec(g_mlist, p_list, num_dir)\n",
    "    \n",
    "    delta = np.linalg.norm(original_goal_vec+goal_vec)\n",
    "    eps = 0.00001\n",
    "    alpha1 = np.arctan(original_goal_vec[1]/(original_goal_vec[0] + eps))\n",
    "    alpha2 = np.arctan(goal_vec[1]/(goal_vec[0] +eps))\n",
    "    \n",
    "    d = np.linalg.norm(original_goal_vec) - np.linalg.norm(goal_vec)\n",
    "    \n",
    "    \n",
    "    goal_vecs.append(goal_vec)\n",
    "    orig_goal_vecs.append(original_goal_vec)\n",
    "    deltas.append(delta)\n",
    "    alphas.append(alpha1-alpha2)\n",
    "    ds.append(d)\n",
    "    if i%6 == 0:\n",
    "        print(\"trial number\", i, \"angle\", test_angles[a])\n",
    "        print(\"delta=\", delta,\"alpha =\", alpha1- alpha2, \"d=\", d)\n",
    "    "
   ]
  },
  {
   "cell_type": "code",
   "execution_count": 8,
   "id": "952302cd",
   "metadata": {
    "scrolled": true
   },
   "outputs": [
    {
     "name": "stdout",
     "output_type": "stream",
     "text": [
      "mean errors are 2.929185205505197 m -0.005671470978256616 ° -0.7526803938958396 m\n"
     ]
    }
   ],
   "source": [
    "de = np.mean(deltas)\n",
    "alp = np.mean(alphas)\n",
    "dd = np.mean(ds)\n",
    "print(\"mean errors are\", de, \"m\", alp, \"°\", dd, \"m\")"
   ]
  },
  {
   "cell_type": "code",
   "execution_count": 9,
   "id": "ec2d442a",
   "metadata": {},
   "outputs": [
    {
     "data": {
      "text/plain": [
       "<matplotlib.quiver.Quiver at 0x16e3b3a5df0>"
      ]
     },
     "execution_count": 9,
     "metadata": {},
     "output_type": "execute_result"
    },
    {
     "data": {
      "image/png": "[encoded data removed]",
      "text/plain": [
       "<Figure size 432x288 with 1 Axes>"
      ]
     },
     "metadata": {
      "needs_background": "light"
     },
     "output_type": "display_data"
    }
   ],
   "source": [
    "test_angles = np.linspace(0, 2*np.pi, 36)\n",
    "start_points=[]\n",
    "v = goal_vecs\n",
    "for a in range(36):\n",
    "\n",
    "    start_points.append([175 * np.sin(test_angles[a]), 175 * np.cos(test_angles[a])])\n",
    "\n",
    "\n",
    "#Plot\n",
    "V= np.array(v)*10\n",
    "plt.scatter(np.array(start_points)[:,0], np.array(start_points)[:,1], color=\"red\", s=30)\n",
    "plt.scatter([0],[0], color= \"blue\")\n",
    "plt.gca().set_aspect('equal', adjustable='box')\n",
    "plt.quiver(*np.array(start_points).T, V[:,0], V[:,1],  scale=400)"
   ]
  }
 ],
 "metadata": {
  "kernelspec": {
   "display_name": "Python 3 (ipykernel)",
   "language": "python",
   "name": "python3"
  },
  "language_info": {
   "codemirror_mode": {
    "name": "ipython",
    "version": 3
   },
   "file_extension": ".py",
   "mimetype": "text/x-python",
   "name": "python",
   "nbconvert_exporter": "python",
   "pygments_lexer": "ipython3",
   "version": "3.8.12"
  }
 },
 "nbformat": 4,
 "nbformat_minor": 5
}
